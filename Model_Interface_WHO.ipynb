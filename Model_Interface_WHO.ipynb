{
  "nbformat": 4,
  "nbformat_minor": 0,
  "metadata": {
    "colab": {
      "provenance": []
    },
    "kernelspec": {
      "name": "python3",
      "display_name": "Python 3"
    },
    "language_info": {
      "name": "python"
    }
  },
  "cells": [
    {
      "cell_type": "markdown",
      "source": [
        "<img src = \"data:image/png;base64,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\"/>"
      ],
      "metadata": {
        "id": "2lbnkztNnHnM"
      }
    },
    {
      "cell_type": "markdown",
      "source": [
        "## **WHO Life Expectancy Interface:**\n",
        "\n",
        "Here we have created an interactive Python function allowing a user to access the linear regression models in order to predict life expectancy."
      ],
      "metadata": {
        "id": "oNX8vvNhNBqe"
      }
    },
    {
      "cell_type": "code",
      "execution_count": null,
      "metadata": {
        "id": "2pAqJxubM9YO"
      },
      "outputs": [],
      "source": [
        "def predictLifeExpectancy():\n",
        "  question = input('Do you consent to using advanced population data, which may include protected information, for better accuracy? (Y/N) ')\n",
        "\n",
        "  # Comprehensive model\n",
        "  if question == 'Y':\n",
        "    print('This model requires 11 inputs, please enter when prompted:')\n",
        "\n",
        "    infant = float(input('Please enter your value for \"Infant Deaths\": ')) # ensuring the correct data types have been inputed\n",
        "    under_5 = float(input('Please enter your value for \"Under 5 Deaths\": '))\n",
        "    adult = float(input('Please enter your value for \"Adult Mortality\": '))\n",
        "    hep_b = float(input('Please enter your value for \"Hepatitis_B\": '))\n",
        "    bmi = float(input('Please enter your value for \"BMI\": '))\n",
        "    GDP = float(input('Please enter your value for \"GDP per Capita\": '))\n",
        "\n",
        "    # The model takes in a OHE version of region, therefore need a conversion from the string version\n",
        "    region = input(\"Please enter your region : \").lower()\n",
        "\n",
        "    # Start with all regions false\n",
        "    cent_am = 0\n",
        "    eu = 0\n",
        "    na = 0\n",
        "    rest_eu = 0\n",
        "    sa = 0\n",
        "\n",
        "    # Converts region into true\n",
        "    if region == 'european union':\n",
        "      eu = 1\n",
        "    elif region == 'south america':\n",
        "      sa = 1\n",
        "    elif region == 'central america and caribbean':\n",
        "      cent_am = 1\n",
        "    elif region == 'rest of europe':\n",
        "      rest_eu = 1\n",
        "    elif region == 'north america':\n",
        "      na = 1\n",
        "\n",
        "    # Calculating life expectancy\n",
        "    # Model Coeffecients :\n",
        "    m0 = 84.1045 # const\n",
        "    m1 = -0.0695 # infant\n",
        "    m2 = -0.0490 # under5\n",
        "    m3 = -0.0444 #adult\n",
        "    m4 = -0.0059 #hepb\n",
        "    m5 = -0.1250 #bmi\n",
        "    m6 = 4.567e-05 # gdp\n",
        "    m7 = 1.7790 # region ca\n",
        "    m8 = 1.3544 # region eu\n",
        "    m9 = 1.8501 # region na\n",
        "    m10 = 0.06751 # rest eu\n",
        "    m11 = 1.5910 # region sa\n",
        "\n",
        "    # Model Function:\n",
        "    y = m0 + m1 * infant + m2 * under_5 + m3 * adult + m4 * hep_b + m5 * bmi + m6 * GDP + m7 * cent_am + m8 * eu + m9 * na + m10 * rest_eu + m11 * sa\n",
        "\n",
        "    print(f\"Your life expectancy is : {round(y,1)} years.\")\n",
        "\n",
        "\n",
        "# Minimalistic Model\n",
        "  elif question == 'N':\n",
        "    print('This model requires 3 inputs, please enter when prompted:')\n",
        "\n",
        "    adult = float(input('Please enter your value for \"Adult Mortality\": '))\n",
        "    schooling = float(input('Please enter your value for \"Schooling\": '))\n",
        "    developing = int(input('Please enter your value for \"Economy_status_Developing\" (TRUE(1)/False(0)): '))\n",
        "\n",
        "    # Calculating life expectancy\n",
        "    m0 = 75.8524 # const\n",
        "    m1 = -0.0637 # adult coef\n",
        "    m2 = 0.7685 # schooling coef\n",
        "    m3 = -0.8031 # econ_dev coef\n",
        "\n",
        "    # Model Function:\n",
        "    y = m0 + m1 * adult + m2 * schooling + m3 * developing\n",
        "\n",
        "    print(f\"Using the minimalistic model, your life expectancy is : {round(y,1)} years.\")\n",
        "\n",
        "\n",
        "  else:\n",
        "    print('This is not a valid answer! Please restart to try again')"
      ]
    },
    {
      "cell_type": "code",
      "source": [
        "# Run the comprehensive function\n",
        "predictLifeExpectancy()"
      ],
      "metadata": {
        "colab": {
          "base_uri": "https://localhost:8080/"
        },
        "id": "s7K8pLuIREig",
        "outputId": "9637c6b3-b8cc-4435-a2b6-07b18b93d8ff"
      },
      "execution_count": null,
      "outputs": [
        {
          "output_type": "stream",
          "name": "stdout",
          "text": [
            "Do you consent to using advanced population data, which may include protected information, for better accuracy? (Y/N) Y\n",
            "This model requires 11 inputs, please enter when prompted:\n",
            "Please enter your value for \"Infant Deaths\": 11.1\n",
            "Please enter your value for \"Under 5 Deaths\": 13\n",
            "Please enter your value for \"Adult Mortality\": 105.8240\n",
            "Please enter your value for \"Hepatitis_B\": 97\n",
            "Please enter your value for \"BMI\": 27.8\n",
            "Please enter your value for \"GDP per Capita\": 11006\n",
            "Please enter your region : middle east\n",
            "Your life expectancy is : 74.5 years.\n"
          ]
        }
      ]
    },
    {
      "cell_type": "code",
      "source": [
        "# Run the minimalistic function\n",
        "predictLifeExpectancy()"
      ],
      "metadata": {
        "id": "pxUBFGOndTJI",
        "colab": {
          "base_uri": "https://localhost:8080/"
        },
        "outputId": "d28cfe48-a459-4b39-f010-99fbe516303a"
      },
      "execution_count": null,
      "outputs": [
        {
          "output_type": "stream",
          "name": "stdout",
          "text": [
            "Do you consent to using advanced population data, which may include protected information, for better accuracy? (Y/N) N\n",
            "This model requires 3 inputs, please enter when prompted:\n",
            "Please enter your value for \"Adult Mortality\": 105.8240\n",
            "Please enter your value for \"Schooling\": 7.8\n",
            "Please enter your value for \"Economy_status_Developing\" (TRUE(1)/False(0)): 1\n",
            "Using the minimalistic model, your life expectancy is : 74.3 years.\n"
          ]
        }
      ]
    },
    {
      "cell_type": "code",
      "source": [
        "# Run the comprehensive function for outlier\n",
        "predictLifeExpectancy()"
      ],
      "metadata": {
        "colab": {
          "base_uri": "https://localhost:8080/"
        },
        "id": "5q-BV5pTCOnD",
        "outputId": "79c21d7a-4f4b-42fe-8c0b-ab8a6b65bc45"
      },
      "execution_count": null,
      "outputs": [
        {
          "output_type": "stream",
          "name": "stdout",
          "text": [
            "Do you consent to using advanced population data, which may include protected information, for better accuracy? (Y/N) Y\n",
            "This model requires 11 inputs, please enter when prompted:\n",
            "Please enter your value for \"Infant Deaths\": 135.6\n",
            "Please enter your value for \"Under 5 Deaths\": 219.4\n",
            "Please enter your value for \"Adult Mortality\": 519.6305\n",
            "Please enter your value for \"Hepatitis_B\": 71\n",
            "Please enter your value for \"BMI\": 22.2\n",
            "Please enter your value for \"GDP per Capita\": 364\n",
            "Please enter your region : africa\n",
            "Your life expectancy is : 37.7 years.\n"
          ]
        }
      ]
    },
    {
      "cell_type": "code",
      "source": [],
      "metadata": {
        "id": "v5MbQE-2WjGX"
      },
      "execution_count": null,
      "outputs": []
    }
  ]
}