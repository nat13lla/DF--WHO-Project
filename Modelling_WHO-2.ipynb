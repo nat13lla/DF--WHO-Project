{
  "nbformat": 4,
  "nbformat_minor": 0,
  "metadata": {
    "colab": {
      "provenance": []
    },
    "kernelspec": {
      "name": "python3",
      "display_name": "Python 3"
    },
    "language_info": {
      "name": "python"
    }
  },
  "cells": [
    {
      "cell_type": "markdown",
      "source": [
        "<img src = \"data:image/png;base64,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\"/>"
      ],
      "metadata": {
        "id": "4zFqT4TYltz4"
      }
    },
    {
      "cell_type": "markdown",
      "source": [
        "# **Train Test Splitting**\n",
        "\n",
        "We have analysed the data, and now we will build a model to predict the life expectancy using the train test splitting method."
      ],
      "metadata": {
        "id": "Z23kqjCtKTL7"
      }
    },
    {
      "cell_type": "code",
      "execution_count": null,
      "metadata": {
        "id": "8ss6PCFxEBR4"
      },
      "outputs": [],
      "source": [
        "import pandas as pd\n",
        "import numpy as np\n",
        "import matplotlib.pyplot as plt\n",
        "import seaborn as sns\n",
        "from sklearn.model_selection import train_test_split\n",
        "import statsmodels.api as sm\n",
        "import statsmodels.tools"
      ]
    },
    {
      "cell_type": "code",
      "source": [
        "# Reading in the data\n",
        "df = pd.read_csv(\"Life Expectancy Data.csv\")"
      ],
      "metadata": {
        "id": "OpW6hRdkEQ4w"
      },
      "execution_count": null,
      "outputs": []
    },
    {
      "cell_type": "code",
      "source": [
        "df.head();"
      ],
      "metadata": {
        "id": "a0iKPzlAMbkf"
      },
      "execution_count": null,
      "outputs": []
    },
    {
      "cell_type": "markdown",
      "source": [
        "Now we created our feature columns from the data frame, by removing Life expectancy, which is the target column for this dataset."
      ],
      "metadata": {
        "id": "loah9QDlbOnW"
      }
    },
    {
      "cell_type": "code",
      "source": [
        "feature_cols = df.columns\n",
        "feature_cols = list(feature_cols)\n",
        "feature_cols.remove(\"Life_expectancy\")"
      ],
      "metadata": {
        "id": "n1hHFPQWNH0q"
      },
      "execution_count": null,
      "outputs": []
    },
    {
      "cell_type": "markdown",
      "source": [
        "It's important here that we add a constant. Including a constant makes the interpretation of regression coefficients more meaningful. Without a constant, the coefficients of the other variables would represent changes relative to the origin, which can be less intuitive and harder to interpret.\n",
        "\n",
        "Reference: https://statisticsbyjim.com/regression/interpret-constant-y-intercept-regression/"
      ],
      "metadata": {
        "id": "76s8oVoWbblJ"
      }
    },
    {
      "cell_type": "code",
      "source": [
        "X = df[feature_cols]\n",
        "X = sm.add_constant(X)\n",
        "y = df[\"Life_expectancy\"]"
      ],
      "metadata": {
        "id": "WuLa4cHLNQKO"
      },
      "execution_count": null,
      "outputs": []
    },
    {
      "cell_type": "code",
      "source": [
        "X.head();"
      ],
      "metadata": {
        "id": "gblmKsCKPf5m"
      },
      "execution_count": null,
      "outputs": []
    },
    {
      "cell_type": "markdown",
      "source": [
        "We determined the proportion of the dataset that will be allocated to the testing set. In this case, test_size = 0.2 indicates that 20% of the data will be used for testing, and the remaining 80% will be used for training."
      ],
      "metadata": {
        "id": "NHzSOCZ8cjyj"
      }
    },
    {
      "cell_type": "code",
      "source": [
        "X_train, X_test, y_train, y_test = train_test_split(X, y, test_size = 0.2, random_state = 42)"
      ],
      "metadata": {
        "id": "K9nDFCTDRRep"
      },
      "execution_count": null,
      "outputs": []
    },
    {
      "cell_type": "markdown",
      "source": [
        "# **Modelling Life Expectancy on WHO data**\n",
        "\n",
        "We have analysed the data, and now we will build a model to predict the life expectancy using the train test method."
      ],
      "metadata": {
        "id": "7uSBSyUzEPdS"
      }
    },
    {
      "cell_type": "markdown",
      "source": [
        "We tackled feature engineering, at this point not all of our columns were numerical. We decided to drop the column \"Country\" because it was not an numerical data and  had no/minimal correlation. There's 179 countries, if we attempted one hot encoding, this will cause noise in the data. Removing \"Country\" removes the bias in the data also."
      ],
      "metadata": {
        "id": "NGXtLKF6Qqdk"
      }
    },
    {
      "cell_type": "code",
      "source": [
        "def feature_engineering(df):\n",
        "  df = df.copy()\n",
        "  df = pd.get_dummies(df, columns = ['Region'], drop_first = True, prefix = 'Region')\n",
        "  df.drop(\"Country\",axis=1,inplace=True)\n",
        "  return df"
      ],
      "metadata": {
        "id": "cHkkP2g_QpXo"
      },
      "execution_count": null,
      "outputs": []
    },
    {
      "cell_type": "code",
      "source": [
        "X_train_fe = feature_engineering(X_train)"
      ],
      "metadata": {
        "id": "4qVBPbipQpUP"
      },
      "execution_count": null,
      "outputs": []
    },
    {
      "cell_type": "code",
      "source": [
        "X_train_fe.head();"
      ],
      "metadata": {
        "id": "1dQ4yxPTQpSh"
      },
      "execution_count": null,
      "outputs": []
    },
    {
      "cell_type": "code",
      "source": [
        "y_train.head();"
      ],
      "metadata": {
        "id": "DlWfOYmeuoxx"
      },
      "execution_count": null,
      "outputs": []
    },
    {
      "cell_type": "markdown",
      "source": [
        "These are the featured columns that are used on the training set."
      ],
      "metadata": {
        "id": "3R6TDpmSc-PF"
      }
    },
    {
      "cell_type": "code",
      "source": [
        "X_train_fe.columns"
      ],
      "metadata": {
        "id": "gJL9f7v01Y20",
        "colab": {
          "base_uri": "https://localhost:8080/"
        },
        "outputId": "05ea2302-bbd5-4389-95b9-7ad3a1b7325a"
      },
      "execution_count": null,
      "outputs": [
        {
          "output_type": "execute_result",
          "data": {
            "text/plain": [
              "Index(['const', 'Year', 'Infant_deaths', 'Under_five_deaths',\n",
              "       'Adult_mortality', 'Alcohol_consumption', 'Hepatitis_B', 'Measles',\n",
              "       'BMI', 'Polio', 'Diphtheria', 'Incidents_HIV', 'GDP_per_capita',\n",
              "       'Population_mln', 'Thinness_ten_nineteen_years',\n",
              "       'Thinness_five_nine_years', 'Schooling', 'Economy_status_Developed',\n",
              "       'Economy_status_Developing', 'Region_Asia',\n",
              "       'Region_Central America and Caribbean', 'Region_European Union',\n",
              "       'Region_Middle East', 'Region_North America', 'Region_Oceania',\n",
              "       'Region_Rest of Europe', 'Region_South America'],\n",
              "      dtype='object')"
            ]
          },
          "metadata": {},
          "execution_count": 315
        }
      ]
    },
    {
      "cell_type": "code",
      "source": [
        "X_train_fe;"
      ],
      "metadata": {
        "id": "izE2y2Jg83Qn"
      },
      "execution_count": null,
      "outputs": []
    },
    {
      "cell_type": "markdown",
      "source": [
        "## **VIF use:**"
      ],
      "metadata": {
        "id": "YzUHM25PVIBR"
      }
    },
    {
      "cell_type": "code",
      "source": [
        "# Using ViF to find columns with strong multicollinearity to remove them from the model\n",
        "\n",
        "from statsmodels.stats.outliers_influence import variance_inflation_factor # a module to evaluate the (VIF)\n",
        "\n",
        "cols = ['Year', 'Infant_deaths', 'Under_five_deaths',\n",
        "       'Adult_mortality', 'Alcohol_consumption', 'Hepatitis_B', 'Measles',\n",
        "       'BMI', 'Polio', 'Diphtheria', 'Incidents_HIV', 'GDP_per_capita',\n",
        "       'Population_mln', 'Thinness_ten_nineteen_years',\n",
        "       'Thinness_five_nine_years', 'Schooling', 'Economy_status_Developed',\n",
        "       'Economy_status_Developing']\n",
        "\n",
        "pd.Series([variance_inflation_factor(X_train_fe[cols].values, i) for i in range(X_train_fe[cols].shape[1])], index = X_train_fe[cols].columns)\n",
        "\n",
        "## CODE FROM ALEX"
      ],
      "metadata": {
        "colab": {
          "base_uri": "https://localhost:8080/"
        },
        "id": "jVfN-pl80pmk",
        "outputId": "8d7d51e5-c274-4bdc-c181-aca2e30f7e09"
      },
      "execution_count": null,
      "outputs": [
        {
          "output_type": "execute_result",
          "data": {
            "text/plain": [
              "Year                                1.077053\n",
              "Infant_deaths                      46.391053\n",
              "Under_five_deaths                  47.015582\n",
              "Adult_mortality                     8.075862\n",
              "Alcohol_consumption                 2.421188\n",
              "Hepatitis_B                         2.622288\n",
              "Measles                             1.586372\n",
              "BMI                                 2.803264\n",
              "Polio                              12.431674\n",
              "Diphtheria                         13.501654\n",
              "Incidents_HIV                       2.929898\n",
              "GDP_per_capita                      2.423938\n",
              "Population_mln                      1.135601\n",
              "Thinness_ten_nineteen_years         8.650180\n",
              "Thinness_five_nine_years            8.646712\n",
              "Schooling                           4.491876\n",
              "Economy_status_Developed        41371.077675\n",
              "Economy_status_Developing      158671.488298\n",
              "dtype: float64"
            ]
          },
          "metadata": {},
          "execution_count": 317
        }
      ]
    },
    {
      "cell_type": "markdown",
      "source": [
        "Here we can see that Infant deaths and Under five deaths have high multicollinarity however once removed they make more model less robust so we kept them in."
      ],
      "metadata": {
        "id": "I9MhzbYN11qi"
      }
    },
    {
      "cell_type": "markdown",
      "source": [
        "## **Comprehensive Model**"
      ],
      "metadata": {
        "id": "hPEeHfyWX5sD"
      }
    },
    {
      "cell_type": "markdown",
      "source": [
        "We initially dropped the columns with a P value higher than 0.05. We removed the some of the diseases that were highly correlated with each other. Some of them were kept in the code because it effected the Root Mean Squared Error (RMSE) values. We removed some of the columns that had a high correlation with the life expectancy. Columns we removed are:\n",
        "\n",
        "*   Year\n",
        "*   Alcohol consumption\n",
        "*   BMI\n",
        "*   Polio\n",
        "*   Diphtheria\n",
        "*   HIV Incidents\n",
        "*   Population\n",
        "*   Thinness 10-19 years\n",
        "*   Thinness 5-9 years\n",
        "*   Schooling\n",
        "*   Economy status developed\n",
        "*   Economy status developing\n",
        "*   Region Asia\n",
        "*   Region Oceania\n",
        "*   Region Middle East\n",
        "\n"
      ],
      "metadata": {
        "id": "Mkm8pdwGxl0T"
      }
    },
    {
      "cell_type": "code",
      "source": [
        "feature_cols = ['const', 'Infant_deaths', 'Under_five_deaths',\n",
        "       'Adult_mortality', 'Hepatitis_B',\n",
        "       'BMI', 'GDP_per_capita',\n",
        "       'Region_Central America and Caribbean', 'Region_European Union',\n",
        "       'Region_North America',\n",
        "       'Region_Rest of Europe', 'Region_South America']"
      ],
      "metadata": {
        "id": "gF-W7qvKXmSV"
      },
      "execution_count": null,
      "outputs": []
    },
    {
      "cell_type": "code",
      "source": [
        "lin_reg = sm.OLS(y_train, X_train_fe[feature_cols]) # Initialising the model object\n",
        "results = lin_reg.fit() # Creating an object for the fitted model\n",
        "\n",
        "df['y_pred'] = results.predict(X_train_fe[feature_cols])"
      ],
      "metadata": {
        "id": "78Rk_HReXmWJ"
      },
      "execution_count": null,
      "outputs": []
    },
    {
      "cell_type": "code",
      "source": [
        "results.summary()"
      ],
      "metadata": {
        "colab": {
          "base_uri": "https://localhost:8080/",
          "height": 688
        },
        "id": "y7jGCkrkXmar",
        "outputId": "52998e9f-1716-41fe-e72d-611ac68959a2"
      },
      "execution_count": null,
      "outputs": [
        {
          "output_type": "execute_result",
          "data": {
            "text/plain": [
              "<class 'statsmodels.iolib.summary.Summary'>\n",
              "\"\"\"\n",
              "                            OLS Regression Results                            \n",
              "==============================================================================\n",
              "Dep. Variable:        Life_expectancy   R-squared:                       0.981\n",
              "Model:                            OLS   Adj. R-squared:                  0.981\n",
              "Method:                 Least Squares   F-statistic:                 1.068e+04\n",
              "Date:                Wed, 14 Feb 2024   Prob (F-statistic):               0.00\n",
              "Time:                        13:37:10   Log-Likelihood:                -3864.4\n",
              "No. Observations:                2291   AIC:                             7753.\n",
              "Df Residuals:                    2279   BIC:                             7822.\n",
              "Df Model:                          11                                         \n",
              "Covariance Type:            nonrobust                                         \n",
              "========================================================================================================\n",
              "                                           coef    std err          t      P>|t|      [0.025      0.975]\n",
              "--------------------------------------------------------------------------------------------------------\n",
              "const                                   84.1045      0.497    169.059      0.000      83.129      85.080\n",
              "Infant_deaths                           -0.0695      0.007    -10.486      0.000      -0.083      -0.057\n",
              "Under_five_deaths                       -0.0490      0.004    -12.206      0.000      -0.057      -0.041\n",
              "Adult_mortality                         -0.0444      0.000   -106.409      0.000      -0.045      -0.044\n",
              "Hepatitis_B                             -0.0059      0.002     -2.881      0.004      -0.010      -0.002\n",
              "BMI                                     -0.1250      0.017     -7.278      0.000      -0.159      -0.091\n",
              "GDP_per_capita                        4.567e-05    2.1e-06     21.704      0.000    4.15e-05    4.98e-05\n",
              "Region_Central America and Caribbean     1.7790      0.100     17.817      0.000       1.583       1.975\n",
              "Region_European Union                    1.3544      0.099     13.743      0.000       1.161       1.548\n",
              "Region_North America                     1.8501      0.220      8.412      0.000       1.419       2.281\n",
              "Region_Rest of Europe                    0.6751      0.110      6.153      0.000       0.460       0.890\n",
              "Region_South America                     1.5910      0.114     13.902      0.000       1.367       1.815\n",
              "==============================================================================\n",
              "Omnibus:                       24.649   Durbin-Watson:                   2.034\n",
              "Prob(Omnibus):                  0.000   Jarque-Bera (JB):               29.157\n",
              "Skew:                           0.182   Prob(JB):                     4.66e-07\n",
              "Kurtosis:                       3.415   Cond. No.                     3.80e+05\n",
              "==============================================================================\n",
              "\n",
              "Notes:\n",
              "[1] Standard Errors assume that the covariance matrix of the errors is correctly specified.\n",
              "[2] The condition number is large, 3.8e+05. This might indicate that there are\n",
              "strong multicollinearity or other numerical problems.\n",
              "\"\"\""
            ],
            "text/html": [
              "<table class=\"simpletable\">\n",
              "<caption>OLS Regression Results</caption>\n",
              "<tr>\n",
              "  <th>Dep. Variable:</th>     <td>Life_expectancy</td> <th>  R-squared:         </th> <td>   0.981</td> \n",
              "</tr>\n",
              "<tr>\n",
              "  <th>Model:</th>                   <td>OLS</td>       <th>  Adj. R-squared:    </th> <td>   0.981</td> \n",
              "</tr>\n",
              "<tr>\n",
              "  <th>Method:</th>             <td>Least Squares</td>  <th>  F-statistic:       </th> <td>1.068e+04</td>\n",
              "</tr>\n",
              "<tr>\n",
              "  <th>Date:</th>             <td>Wed, 14 Feb 2024</td> <th>  Prob (F-statistic):</th>  <td>  0.00</td>  \n",
              "</tr>\n",
              "<tr>\n",
              "  <th>Time:</th>                 <td>13:37:10</td>     <th>  Log-Likelihood:    </th> <td> -3864.4</td> \n",
              "</tr>\n",
              "<tr>\n",
              "  <th>No. Observations:</th>      <td>  2291</td>      <th>  AIC:               </th> <td>   7753.</td> \n",
              "</tr>\n",
              "<tr>\n",
              "  <th>Df Residuals:</th>          <td>  2279</td>      <th>  BIC:               </th> <td>   7822.</td> \n",
              "</tr>\n",
              "<tr>\n",
              "  <th>Df Model:</th>              <td>    11</td>      <th>                     </th>     <td> </td>    \n",
              "</tr>\n",
              "<tr>\n",
              "  <th>Covariance Type:</th>      <td>nonrobust</td>    <th>                     </th>     <td> </td>    \n",
              "</tr>\n",
              "</table>\n",
              "<table class=\"simpletable\">\n",
              "<tr>\n",
              "                    <td></td>                      <th>coef</th>     <th>std err</th>      <th>t</th>      <th>P>|t|</th>  <th>[0.025</th>    <th>0.975]</th>  \n",
              "</tr>\n",
              "<tr>\n",
              "  <th>const</th>                                <td>   84.1045</td> <td>    0.497</td> <td>  169.059</td> <td> 0.000</td> <td>   83.129</td> <td>   85.080</td>\n",
              "</tr>\n",
              "<tr>\n",
              "  <th>Infant_deaths</th>                        <td>   -0.0695</td> <td>    0.007</td> <td>  -10.486</td> <td> 0.000</td> <td>   -0.083</td> <td>   -0.057</td>\n",
              "</tr>\n",
              "<tr>\n",
              "  <th>Under_five_deaths</th>                    <td>   -0.0490</td> <td>    0.004</td> <td>  -12.206</td> <td> 0.000</td> <td>   -0.057</td> <td>   -0.041</td>\n",
              "</tr>\n",
              "<tr>\n",
              "  <th>Adult_mortality</th>                      <td>   -0.0444</td> <td>    0.000</td> <td> -106.409</td> <td> 0.000</td> <td>   -0.045</td> <td>   -0.044</td>\n",
              "</tr>\n",
              "<tr>\n",
              "  <th>Hepatitis_B</th>                          <td>   -0.0059</td> <td>    0.002</td> <td>   -2.881</td> <td> 0.004</td> <td>   -0.010</td> <td>   -0.002</td>\n",
              "</tr>\n",
              "<tr>\n",
              "  <th>BMI</th>                                  <td>   -0.1250</td> <td>    0.017</td> <td>   -7.278</td> <td> 0.000</td> <td>   -0.159</td> <td>   -0.091</td>\n",
              "</tr>\n",
              "<tr>\n",
              "  <th>GDP_per_capita</th>                       <td> 4.567e-05</td> <td>  2.1e-06</td> <td>   21.704</td> <td> 0.000</td> <td> 4.15e-05</td> <td> 4.98e-05</td>\n",
              "</tr>\n",
              "<tr>\n",
              "  <th>Region_Central America and Caribbean</th> <td>    1.7790</td> <td>    0.100</td> <td>   17.817</td> <td> 0.000</td> <td>    1.583</td> <td>    1.975</td>\n",
              "</tr>\n",
              "<tr>\n",
              "  <th>Region_European Union</th>                <td>    1.3544</td> <td>    0.099</td> <td>   13.743</td> <td> 0.000</td> <td>    1.161</td> <td>    1.548</td>\n",
              "</tr>\n",
              "<tr>\n",
              "  <th>Region_North America</th>                 <td>    1.8501</td> <td>    0.220</td> <td>    8.412</td> <td> 0.000</td> <td>    1.419</td> <td>    2.281</td>\n",
              "</tr>\n",
              "<tr>\n",
              "  <th>Region_Rest of Europe</th>                <td>    0.6751</td> <td>    0.110</td> <td>    6.153</td> <td> 0.000</td> <td>    0.460</td> <td>    0.890</td>\n",
              "</tr>\n",
              "<tr>\n",
              "  <th>Region_South America</th>                 <td>    1.5910</td> <td>    0.114</td> <td>   13.902</td> <td> 0.000</td> <td>    1.367</td> <td>    1.815</td>\n",
              "</tr>\n",
              "</table>\n",
              "<table class=\"simpletable\">\n",
              "<tr>\n",
              "  <th>Omnibus:</th>       <td>24.649</td> <th>  Durbin-Watson:     </th> <td>   2.034</td>\n",
              "</tr>\n",
              "<tr>\n",
              "  <th>Prob(Omnibus):</th> <td> 0.000</td> <th>  Jarque-Bera (JB):  </th> <td>  29.157</td>\n",
              "</tr>\n",
              "<tr>\n",
              "  <th>Skew:</th>          <td> 0.182</td> <th>  Prob(JB):          </th> <td>4.66e-07</td>\n",
              "</tr>\n",
              "<tr>\n",
              "  <th>Kurtosis:</th>      <td> 3.415</td> <th>  Cond. No.          </th> <td>3.80e+05</td>\n",
              "</tr>\n",
              "</table><br/><br/>Notes:<br/>[1] Standard Errors assume that the covariance matrix of the errors is correctly specified.<br/>[2] The condition number is large, 3.8e+05. This might indicate that there are<br/>strong multicollinearity or other numerical problems."
            ],
            "text/latex": "\\begin{center}\n\\begin{tabular}{lclc}\n\\toprule\n\\textbf{Dep. Variable:}                        & Life\\_expectancy & \\textbf{  R-squared:         } &     0.981   \\\\\n\\textbf{Model:}                                &       OLS        & \\textbf{  Adj. R-squared:    } &     0.981   \\\\\n\\textbf{Method:}                               &  Least Squares   & \\textbf{  F-statistic:       } & 1.068e+04   \\\\\n\\textbf{Date:}                                 & Wed, 14 Feb 2024 & \\textbf{  Prob (F-statistic):} &     0.00    \\\\\n\\textbf{Time:}                                 &     13:37:10     & \\textbf{  Log-Likelihood:    } &   -3864.4   \\\\\n\\textbf{No. Observations:}                     &        2291      & \\textbf{  AIC:               } &     7753.   \\\\\n\\textbf{Df Residuals:}                         &        2279      & \\textbf{  BIC:               } &     7822.   \\\\\n\\textbf{Df Model:}                             &          11      & \\textbf{                     } &             \\\\\n\\textbf{Covariance Type:}                      &    nonrobust     & \\textbf{                     } &             \\\\\n\\bottomrule\n\\end{tabular}\n\\begin{tabular}{lcccccc}\n                                               & \\textbf{coef} & \\textbf{std err} & \\textbf{t} & \\textbf{P$> |$t$|$} & \\textbf{[0.025} & \\textbf{0.975]}  \\\\\n\\midrule\n\\textbf{const}                                 &      84.1045  &        0.497     &   169.059  &         0.000        &       83.129    &       85.080     \\\\\n\\textbf{Infant\\_deaths}                        &      -0.0695  &        0.007     &   -10.486  &         0.000        &       -0.083    &       -0.057     \\\\\n\\textbf{Under\\_five\\_deaths}                   &      -0.0490  &        0.004     &   -12.206  &         0.000        &       -0.057    &       -0.041     \\\\\n\\textbf{Adult\\_mortality}                      &      -0.0444  &        0.000     &  -106.409  &         0.000        &       -0.045    &       -0.044     \\\\\n\\textbf{Hepatitis\\_B}                          &      -0.0059  &        0.002     &    -2.881  &         0.004        &       -0.010    &       -0.002     \\\\\n\\textbf{BMI}                                   &      -0.1250  &        0.017     &    -7.278  &         0.000        &       -0.159    &       -0.091     \\\\\n\\textbf{GDP\\_per\\_capita}                      &    4.567e-05  &      2.1e-06     &    21.704  &         0.000        &     4.15e-05    &     4.98e-05     \\\\\n\\textbf{Region\\_Central America and Caribbean} &       1.7790  &        0.100     &    17.817  &         0.000        &        1.583    &        1.975     \\\\\n\\textbf{Region\\_European Union}                &       1.3544  &        0.099     &    13.743  &         0.000        &        1.161    &        1.548     \\\\\n\\textbf{Region\\_North America}                 &       1.8501  &        0.220     &     8.412  &         0.000        &        1.419    &        2.281     \\\\\n\\textbf{Region\\_Rest of Europe}                &       0.6751  &        0.110     &     6.153  &         0.000        &        0.460    &        0.890     \\\\\n\\textbf{Region\\_South America}                 &       1.5910  &        0.114     &    13.902  &         0.000        &        1.367    &        1.815     \\\\\n\\bottomrule\n\\end{tabular}\n\\begin{tabular}{lclc}\n\\textbf{Omnibus:}       & 24.649 & \\textbf{  Durbin-Watson:     } &    2.034  \\\\\n\\textbf{Prob(Omnibus):} &  0.000 & \\textbf{  Jarque-Bera (JB):  } &   29.157  \\\\\n\\textbf{Skew:}          &  0.182 & \\textbf{  Prob(JB):          } & 4.66e-07  \\\\\n\\textbf{Kurtosis:}      &  3.415 & \\textbf{  Cond. No.          } & 3.80e+05  \\\\\n\\bottomrule\n\\end{tabular}\n%\\caption{OLS Regression Results}\n\\end{center}\n\nNotes: \\newline\n [1] Standard Errors assume that the covariance matrix of the errors is correctly specified. \\newline\n [2] The condition number is large, 3.8e+05. This might indicate that there are \\newline\n strong multicollinearity or other numerical problems."
          },
          "metadata": {},
          "execution_count": 320
        }
      ]
    },
    {
      "cell_type": "markdown",
      "source": [
        "The condition number here is quite high which shows there is a strong correlation between the independant variables.\n",
        "\n",
        "We tested the model on the training data first to calculate the Root Mean Squared Error (RMSE).\n"
      ],
      "metadata": {
        "id": "0CG4IY2OemxJ"
      }
    },
    {
      "cell_type": "code",
      "source": [
        "y_pred = results.predict(X_train_fe[feature_cols])\n",
        "rmse = statsmodels.tools.eval_measures.rmse(y_train, y_pred)\n",
        "\n",
        "print(rmse)"
      ],
      "metadata": {
        "colab": {
          "base_uri": "https://localhost:8080/"
        },
        "id": "f_T2xOKZXmeT",
        "outputId": "8e644505-0197-4ea5-bfad-50a97f06977b"
      },
      "execution_count": null,
      "outputs": [
        {
          "output_type": "stream",
          "name": "stdout",
          "text": [
            "1.3071096117697312\n"
          ]
        }
      ]
    },
    {
      "cell_type": "code",
      "source": [
        "X_test_fe = feature_engineering(X_test)\n",
        "X_test_fe = X_test_fe[feature_cols]"
      ],
      "metadata": {
        "id": "i9srwFxMXmih"
      },
      "execution_count": null,
      "outputs": []
    },
    {
      "cell_type": "markdown",
      "source": [
        "We tested the model on the testing data to calculate the Root Mean Squared Error (RMSE). This shows how well the data fits in comparison to the training data. Our model shows that our data is slightly underfitted by 0.02."
      ],
      "metadata": {
        "id": "Lv9Q8aSye2Io"
      }
    },
    {
      "cell_type": "code",
      "source": [
        "y_test_pred = results.predict(X_test_fe)\n",
        "rmse = statsmodels.tools.eval_measures.rmse(y_test, y_test_pred)\n",
        "print(rmse)"
      ],
      "metadata": {
        "colab": {
          "base_uri": "https://localhost:8080/"
        },
        "id": "RmHjLXjSXmnd",
        "outputId": "f1196fdf-618e-42da-c35b-8ac0109bd8bb"
      },
      "execution_count": null,
      "outputs": [
        {
          "output_type": "stream",
          "name": "stdout",
          "text": [
            "1.3301071810389917\n"
          ]
        }
      ]
    },
    {
      "cell_type": "markdown",
      "source": [
        "Here, we double check the coefficients in the summary table againt this code to be sure we read the data accurately."
      ],
      "metadata": {
        "id": "uJpJrNUceVW8"
      }
    },
    {
      "cell_type": "code",
      "source": [
        "coefficients = results.params[0:12]\n",
        "coefficients"
      ],
      "metadata": {
        "colab": {
          "base_uri": "https://localhost:8080/"
        },
        "id": "AQto-AoteLTn",
        "outputId": "118e1046-ebfe-4759-d147-2eb40a54e1a5"
      },
      "execution_count": null,
      "outputs": [
        {
          "output_type": "execute_result",
          "data": {
            "text/plain": [
              "const                                   84.104471\n",
              "Infant_deaths                           -0.069534\n",
              "Under_five_deaths                       -0.048954\n",
              "Adult_mortality                         -0.044366\n",
              "Hepatitis_B                             -0.005921\n",
              "BMI                                     -0.124955\n",
              "GDP_per_capita                           0.000046\n",
              "Region_Central America and Caribbean     1.779009\n",
              "Region_European Union                    1.354424\n",
              "Region_North America                     1.850054\n",
              "Region_Rest of Europe                    0.675123\n",
              "Region_South America                     1.590958\n",
              "dtype: float64"
            ]
          },
          "metadata": {},
          "execution_count": 324
        }
      ]
    },
    {
      "cell_type": "markdown",
      "source": [
        "For our comprehensive model:\n",
        "*   RMSE: 1.33\n",
        "*   R squared: 0.981\n",
        "\n"
      ],
      "metadata": {
        "id": "YA3RkTQLmB3f"
      }
    },
    {
      "cell_type": "markdown",
      "source": [
        "## **Minimalistic Model**"
      ],
      "metadata": {
        "id": "9vbx0N2PJT_d"
      }
    },
    {
      "cell_type": "markdown",
      "source": [],
      "metadata": {
        "id": "8wmPb_3-oWsc"
      }
    },
    {
      "cell_type": "markdown",
      "source": [
        "We built a second model which is more minimalistic and does not contain any sensitive data. The steps were were repeated to build the function.\n",
        "\n"
      ],
      "metadata": {
        "id": "Fc2SIKYQuaux"
      }
    },
    {
      "cell_type": "markdown",
      "source": [
        "* When creating our minimalistic model we decided to immediately remove the columns we though to be the most ‘sensitive’\n",
        "\n",
        "* in our initial assessment we focused on medical sensitivity immediately removing columns such as ‘Infant_deaths’ , ‘Under_five_deaths’  and the thinness columns\n",
        "    *  we immediately though that medical data relating to children would be the most sensitive so removed this from our model completely\n",
        "\n",
        "\n",
        "* Next we removed the other medical related data for example   ‘Measles’ , ’Polio’\n",
        "\n",
        "    * In terms of vaccination data, these values could be related to the varying vaccine availability across different countries and regions.\n",
        "    * Using such data to model the life expectancy could bring the ‘ unwanted financial implications ‘ mentioned  that we are avoiding in this simplified model\n",
        "\n",
        "\n",
        "* Another note we made was that although it may not seem sensitive the alcohol consumption statistic could be seen as sensitive in some religions or for cultural reasons (so we also removed that)\n",
        "\n",
        "\n",
        "* From here we tried a variety of models to find the best combination of columns for our minimalistic model within our requirements\n",
        "    * These are : Adult mortality, schooling, economy status developing\n",
        "\n",
        "    * We considered the adult mortality to be vital to our models success - although sensitive data it was a better column to use than for example the infant deaths or other child- related data that we considered more sensitive\n",
        "\n",
        "    * It was also the column that showed the highest correlation with life expectancy\n",
        "\n",
        "    * We noted that the gdp could be considered sensitive information but trialed our models using it as we initially found that it had a strong correlation with the life expectancy in our analysis\n",
        "\n",
        "    * However interestingly we found that this did not benefit the final model enough to justify using this data"
      ],
      "metadata": {
        "id": "cBm9oLlAoCwP"
      }
    },
    {
      "cell_type": "code",
      "source": [
        "feature_cols = ['const', 'Adult_mortality', 'Schooling', 'Economy_status_Developing']"
      ],
      "metadata": {
        "id": "rRYRT7afHKcA"
      },
      "execution_count": null,
      "outputs": []
    },
    {
      "cell_type": "code",
      "source": [
        "lin_reg = sm.OLS(y_train, X_train_fe[feature_cols]) # Initialising the model object\n",
        "results = lin_reg.fit() # Creating an object for the fitted model\n",
        "\n",
        "df['y_pred'] = results.predict(X_train_fe[feature_cols])"
      ],
      "metadata": {
        "id": "W919VnmlJVgT"
      },
      "execution_count": null,
      "outputs": []
    },
    {
      "cell_type": "code",
      "source": [
        "results.summary()"
      ],
      "metadata": {
        "colab": {
          "base_uri": "https://localhost:8080/",
          "height": 520
        },
        "id": "zAt4MWToJZpt",
        "outputId": "ddb71c2e-c92f-4900-cb5d-d727c61086ee"
      },
      "execution_count": null,
      "outputs": [
        {
          "output_type": "execute_result",
          "data": {
            "text/plain": [
              "<class 'statsmodels.iolib.summary.Summary'>\n",
              "\"\"\"\n",
              "                            OLS Regression Results                            \n",
              "==============================================================================\n",
              "Dep. Variable:        Life_expectancy   R-squared:                       0.946\n",
              "Model:                            OLS   Adj. R-squared:                  0.946\n",
              "Method:                 Least Squares   F-statistic:                 1.340e+04\n",
              "Date:                Wed, 14 Feb 2024   Prob (F-statistic):               0.00\n",
              "Time:                        13:37:10   Log-Likelihood:                -5055.7\n",
              "No. Observations:                2291   AIC:                         1.012e+04\n",
              "Df Residuals:                    2287   BIC:                         1.014e+04\n",
              "Df Model:                           3                                         \n",
              "Covariance Type:            nonrobust                                         \n",
              "=============================================================================================\n",
              "                                coef    std err          t      P>|t|      [0.025      0.975]\n",
              "---------------------------------------------------------------------------------------------\n",
              "const                        75.8524      0.274    276.531      0.000      75.314      76.390\n",
              "Adult_mortality              -0.0637      0.000   -128.641      0.000      -0.065      -0.063\n",
              "Schooling                     0.7685      0.020     38.032      0.000       0.729       0.808\n",
              "Economy_status_Developing    -0.8031      0.143     -5.612      0.000      -1.084      -0.522\n",
              "==============================================================================\n",
              "Omnibus:                       84.591   Durbin-Watson:                   2.012\n",
              "Prob(Omnibus):                  0.000   Jarque-Bera (JB):              148.021\n",
              "Skew:                          -0.298   Prob(JB):                     7.20e-33\n",
              "Kurtosis:                       4.094   Cond. No.                     1.43e+03\n",
              "==============================================================================\n",
              "\n",
              "Notes:\n",
              "[1] Standard Errors assume that the covariance matrix of the errors is correctly specified.\n",
              "[2] The condition number is large, 1.43e+03. This might indicate that there are\n",
              "strong multicollinearity or other numerical problems.\n",
              "\"\"\""
            ],
            "text/html": [
              "<table class=\"simpletable\">\n",
              "<caption>OLS Regression Results</caption>\n",
              "<tr>\n",
              "  <th>Dep. Variable:</th>     <td>Life_expectancy</td> <th>  R-squared:         </th> <td>   0.946</td> \n",
              "</tr>\n",
              "<tr>\n",
              "  <th>Model:</th>                   <td>OLS</td>       <th>  Adj. R-squared:    </th> <td>   0.946</td> \n",
              "</tr>\n",
              "<tr>\n",
              "  <th>Method:</th>             <td>Least Squares</td>  <th>  F-statistic:       </th> <td>1.340e+04</td>\n",
              "</tr>\n",
              "<tr>\n",
              "  <th>Date:</th>             <td>Wed, 14 Feb 2024</td> <th>  Prob (F-statistic):</th>  <td>  0.00</td>  \n",
              "</tr>\n",
              "<tr>\n",
              "  <th>Time:</th>                 <td>13:37:10</td>     <th>  Log-Likelihood:    </th> <td> -5055.7</td> \n",
              "</tr>\n",
              "<tr>\n",
              "  <th>No. Observations:</th>      <td>  2291</td>      <th>  AIC:               </th> <td>1.012e+04</td>\n",
              "</tr>\n",
              "<tr>\n",
              "  <th>Df Residuals:</th>          <td>  2287</td>      <th>  BIC:               </th> <td>1.014e+04</td>\n",
              "</tr>\n",
              "<tr>\n",
              "  <th>Df Model:</th>              <td>     3</td>      <th>                     </th>     <td> </td>    \n",
              "</tr>\n",
              "<tr>\n",
              "  <th>Covariance Type:</th>      <td>nonrobust</td>    <th>                     </th>     <td> </td>    \n",
              "</tr>\n",
              "</table>\n",
              "<table class=\"simpletable\">\n",
              "<tr>\n",
              "              <td></td>                 <th>coef</th>     <th>std err</th>      <th>t</th>      <th>P>|t|</th>  <th>[0.025</th>    <th>0.975]</th>  \n",
              "</tr>\n",
              "<tr>\n",
              "  <th>const</th>                     <td>   75.8524</td> <td>    0.274</td> <td>  276.531</td> <td> 0.000</td> <td>   75.314</td> <td>   76.390</td>\n",
              "</tr>\n",
              "<tr>\n",
              "  <th>Adult_mortality</th>           <td>   -0.0637</td> <td>    0.000</td> <td> -128.641</td> <td> 0.000</td> <td>   -0.065</td> <td>   -0.063</td>\n",
              "</tr>\n",
              "<tr>\n",
              "  <th>Schooling</th>                 <td>    0.7685</td> <td>    0.020</td> <td>   38.032</td> <td> 0.000</td> <td>    0.729</td> <td>    0.808</td>\n",
              "</tr>\n",
              "<tr>\n",
              "  <th>Economy_status_Developing</th> <td>   -0.8031</td> <td>    0.143</td> <td>   -5.612</td> <td> 0.000</td> <td>   -1.084</td> <td>   -0.522</td>\n",
              "</tr>\n",
              "</table>\n",
              "<table class=\"simpletable\">\n",
              "<tr>\n",
              "  <th>Omnibus:</th>       <td>84.591</td> <th>  Durbin-Watson:     </th> <td>   2.012</td>\n",
              "</tr>\n",
              "<tr>\n",
              "  <th>Prob(Omnibus):</th> <td> 0.000</td> <th>  Jarque-Bera (JB):  </th> <td> 148.021</td>\n",
              "</tr>\n",
              "<tr>\n",
              "  <th>Skew:</th>          <td>-0.298</td> <th>  Prob(JB):          </th> <td>7.20e-33</td>\n",
              "</tr>\n",
              "<tr>\n",
              "  <th>Kurtosis:</th>      <td> 4.094</td> <th>  Cond. No.          </th> <td>1.43e+03</td>\n",
              "</tr>\n",
              "</table><br/><br/>Notes:<br/>[1] Standard Errors assume that the covariance matrix of the errors is correctly specified.<br/>[2] The condition number is large, 1.43e+03. This might indicate that there are<br/>strong multicollinearity or other numerical problems."
            ],
            "text/latex": "\\begin{center}\n\\begin{tabular}{lclc}\n\\toprule\n\\textbf{Dep. Variable:}              & Life\\_expectancy & \\textbf{  R-squared:         } &     0.946   \\\\\n\\textbf{Model:}                      &       OLS        & \\textbf{  Adj. R-squared:    } &     0.946   \\\\\n\\textbf{Method:}                     &  Least Squares   & \\textbf{  F-statistic:       } & 1.340e+04   \\\\\n\\textbf{Date:}                       & Wed, 14 Feb 2024 & \\textbf{  Prob (F-statistic):} &     0.00    \\\\\n\\textbf{Time:}                       &     13:37:10     & \\textbf{  Log-Likelihood:    } &   -5055.7   \\\\\n\\textbf{No. Observations:}           &        2291      & \\textbf{  AIC:               } & 1.012e+04   \\\\\n\\textbf{Df Residuals:}               &        2287      & \\textbf{  BIC:               } & 1.014e+04   \\\\\n\\textbf{Df Model:}                   &           3      & \\textbf{                     } &             \\\\\n\\textbf{Covariance Type:}            &    nonrobust     & \\textbf{                     } &             \\\\\n\\bottomrule\n\\end{tabular}\n\\begin{tabular}{lcccccc}\n                                     & \\textbf{coef} & \\textbf{std err} & \\textbf{t} & \\textbf{P$> |$t$|$} & \\textbf{[0.025} & \\textbf{0.975]}  \\\\\n\\midrule\n\\textbf{const}                       &      75.8524  &        0.274     &   276.531  &         0.000        &       75.314    &       76.390     \\\\\n\\textbf{Adult\\_mortality}            &      -0.0637  &        0.000     &  -128.641  &         0.000        &       -0.065    &       -0.063     \\\\\n\\textbf{Schooling}                   &       0.7685  &        0.020     &    38.032  &         0.000        &        0.729    &        0.808     \\\\\n\\textbf{Economy\\_status\\_Developing} &      -0.8031  &        0.143     &    -5.612  &         0.000        &       -1.084    &       -0.522     \\\\\n\\bottomrule\n\\end{tabular}\n\\begin{tabular}{lclc}\n\\textbf{Omnibus:}       & 84.591 & \\textbf{  Durbin-Watson:     } &    2.012  \\\\\n\\textbf{Prob(Omnibus):} &  0.000 & \\textbf{  Jarque-Bera (JB):  } &  148.021  \\\\\n\\textbf{Skew:}          & -0.298 & \\textbf{  Prob(JB):          } & 7.20e-33  \\\\\n\\textbf{Kurtosis:}      &  4.094 & \\textbf{  Cond. No.          } & 1.43e+03  \\\\\n\\bottomrule\n\\end{tabular}\n%\\caption{OLS Regression Results}\n\\end{center}\n\nNotes: \\newline\n [1] Standard Errors assume that the covariance matrix of the errors is correctly specified. \\newline\n [2] The condition number is large, 1.43e+03. This might indicate that there are \\newline\n strong multicollinearity or other numerical problems."
          },
          "metadata": {},
          "execution_count": 327
        }
      ]
    },
    {
      "cell_type": "code",
      "source": [
        "y_pred = results.predict(X_train_fe[feature_cols])\n",
        "rmse = statsmodels.tools.eval_measures.rmse(y_train, y_pred)\n",
        "\n",
        "print(rmse)"
      ],
      "metadata": {
        "colab": {
          "base_uri": "https://localhost:8080/"
        },
        "id": "ycOZ_gH0Jd7M",
        "outputId": "16baae0d-55c4-4b7d-f6bc-88f19750b202"
      },
      "execution_count": null,
      "outputs": [
        {
          "output_type": "stream",
          "name": "stdout",
          "text": [
            "2.1985709232733086\n"
          ]
        }
      ]
    },
    {
      "cell_type": "code",
      "source": [
        "X_test_fe = feature_engineering(X_test)\n",
        "X_test_fe = X_test_fe[feature_cols]"
      ],
      "metadata": {
        "id": "U-dr4bJrJdlC"
      },
      "execution_count": null,
      "outputs": []
    },
    {
      "cell_type": "code",
      "source": [
        "y_test_pred = results.predict(X_test_fe)\n",
        "rmse = statsmodels.tools.eval_measures.rmse(y_test, y_test_pred)\n",
        "print(rmse)"
      ],
      "metadata": {
        "colab": {
          "base_uri": "https://localhost:8080/"
        },
        "id": "JMvFrz6YJkeD",
        "outputId": "51ce9710-1659-4cea-851a-387ccfe5e1e5"
      },
      "execution_count": null,
      "outputs": [
        {
          "output_type": "stream",
          "name": "stdout",
          "text": [
            "2.2260406587666814\n"
          ]
        }
      ]
    },
    {
      "cell_type": "code",
      "source": [
        "coefficients_min = results.params[0:12]\n",
        "coefficients_min"
      ],
      "metadata": {
        "id": "faZFVAmyJ88p",
        "colab": {
          "base_uri": "https://localhost:8080/"
        },
        "outputId": "4b530292-8fcc-4831-c71f-b4731c419c52"
      },
      "execution_count": null,
      "outputs": [
        {
          "output_type": "execute_result",
          "data": {
            "text/plain": [
              "const                        75.852394\n",
              "Adult_mortality              -0.063719\n",
              "Schooling                     0.768486\n",
              "Economy_status_Developing    -0.803093\n",
              "dtype: float64"
            ]
          },
          "metadata": {},
          "execution_count": 331
        }
      ]
    },
    {
      "cell_type": "markdown",
      "source": [
        "The RMSE is higher than the comprehensive model's RMSE because it has less featured columns and therefore less data, but will still give an approximate life expectancy value without using sensitive and confidential data."
      ],
      "metadata": {
        "id": "WdkMYbrkNobu"
      }
    },
    {
      "cell_type": "markdown",
      "source": [
        "For our minimalistic model:\n",
        "*   RMSE: 2.22\n",
        "*   R squared: 0.946"
      ],
      "metadata": {
        "id": "Nse1BVCdmW1W"
      }
    }
  ]
}